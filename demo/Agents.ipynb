{
 "cells": [
  {
   "attachments": {},
   "cell_type": "markdown",
   "metadata": {},
   "source": [
    "zero-shot-react-description: 此代理使用ReAct框架，仅基于工具的描述来确定要使用的工具。\n",
    "\n",
    "1. 可以提供任意数量的工具。\n",
    "2. 此代理需要为每个工具提供描述\n",
    "\n",
    "测试样例: 谁是莱昂纳多·迪卡普里奥的女朋友？她当前的年龄的2次方是多少？"
   ]
  },
  {
   "cell_type": "code",
   "execution_count": null,
   "metadata": {},
   "outputs": [],
   "source": [
    "from langchain.llms import OpenAI\n",
    "\n",
    "llm = OpenAI(temperature=0.1)"
   ]
  },
  {
   "cell_type": "code",
   "execution_count": null,
   "metadata": {},
   "outputs": [],
   "source": [
    "from langchain.agents import load_tools\n",
    "from langchain.agents import initialize_agent\n",
    "from langchain.agents import AgentType\n",
    "\n",
    "tools = load_tools([\"serpapi\", \"llm-math\"], llm=llm)\n",
    "agent_executor = initialize_agent(tools, llm, agent=AgentType.ZERO_SHOT_REACT_DESCRIPTION, verbose=True, max_iterations=3)\n",
    "\n",
    "agent_executor.run('谁是莱昂纳多·迪卡普里奥的女朋友？她当前的年龄的2次方是多少？')"
   ]
  },
  {
   "cell_type": "code",
   "execution_count": null,
   "metadata": {},
   "outputs": [],
   "source": [
    "print(agent.agent.llm_chain.prompt.template)"
   ]
  },
  {
   "attachments": {},
   "cell_type": "markdown",
   "metadata": {},
   "source": [
    "conversational-react-description: 此代理用于对话环境中，提示设计旨在使代理程序有助于对话，它使用ReAct框架来决定使用哪个工具，并使用内存来记忆历史对话。"
   ]
  },
  {
   "cell_type": "code",
   "execution_count": null,
   "metadata": {},
   "outputs": [],
   "source": [
    "from langchain.tools import BaseTool\n",
    "from langchain.chains import LLMChain\n",
    "from langchain.prompts import PromptTemplate\n",
    "\n",
    "class EvaluateMathExpression(BaseTool):\n",
    "    name = \"Math Evaluation\"\n",
    "    description = 'use this tool to evaluate a math expression.'\n",
    "\n",
    "    def _run(self, input: str):\n",
    "        return LLMChain(llm=llm, prompt=PromptTemplate(template=input, input_variables=[]))\n",
    "    \n",
    "    def _arun(self, query: str):\n",
    "        raise NotImplementedError(\"Async operation not supported yet\")"
   ]
  },
  {
   "cell_type": "code",
   "execution_count": null,
   "metadata": {},
   "outputs": [],
   "source": [
    "tools = [EvaluateMathExpression()] + load_tools([\"serpapi\"])"
   ]
  },
  {
   "cell_type": "code",
   "execution_count": null,
   "metadata": {},
   "outputs": [],
   "source": [
    "from langchain.agents import load_tools\n",
    "from langchain.agents import initialize_agent\n",
    "from langchain.agents import AgentType\n",
    "from langchain.chains.conversation.memory import ConversationBufferWindowMemory\n",
    "\n",
    "agent = initialize_agent(\n",
    "    agent='conversational-react-description',\n",
    "    tools=tools,\n",
    "    llm=llm,\n",
    "    verbose=True,\n",
    "    max_iterations=3, # agent at taking a certain number of steps, this can be useful to ensure that they do not go haywire and take too many steps.\n",
    "    early_stopping_method='generate', # By default, the early stopping uses method \"force\" which just returns that constant string. Alternatively, you could specify method generate which then does one FINAL pass through the LLM to generate an output.\n",
    "    memory=ConversationBufferWindowMemory(\n",
    "        memory_key='chat_history',\n",
    "        k=5,\n",
    "        return_messages=True\n",
    "    )\n",
    ")"
   ]
  },
  {
   "cell_type": "code",
   "execution_count": null,
   "metadata": {},
   "outputs": [],
   "source": [
    "print(agent.agent.llm_chain.prompt.template)"
   ]
  },
  {
   "cell_type": "code",
   "execution_count": null,
   "metadata": {},
   "outputs": [],
   "source": [
    "agent(\"谁是莱昂纳多·迪卡普里奥的女朋友？她当前的年龄的2次方是多少\")"
   ]
  },
  {
   "cell_type": "code",
   "execution_count": null,
   "metadata": {},
   "outputs": [],
   "source": [
    "agent(\"谁是莱昂纳多·迪卡普里奥的女朋友？她当前的年龄的2次方是多少, 必须使用tools去查找名字，年龄和计算\")"
   ]
  },
  {
   "cell_type": "code",
   "execution_count": null,
   "metadata": {},
   "outputs": [],
   "source": [
    "agent(\"你上一次的回答错了，你没有正确的找到莱昂纳多·迪卡普里奥的女朋友的年龄，你必须使用tools去查找年龄再重新计算最终结果\")"
   ]
  },
  {
   "cell_type": "code",
   "execution_count": null,
   "metadata": {},
   "outputs": [],
   "source": [
    "from langchain.agents.conversational.prompt import PREFIX, FORMAT_INSTRUCTIONS\n",
    "\n",
    "prefix = \"\"\"\n",
    "Answer the following questions as best you can. You have access to the following tools:\n",
    "TOOLS:\n",
    "------\n",
    "\n",
    "Assistant has access to the following tools and it prioritizes using tools to solve problems:\"\"\"\n",
    "\n",
    "format_instructions = \"\"\"To use a tool, please use the following format:\n",
    "\n",
    "```\n",
    "Thought: Do I need to use a tool? Yes\n",
    "Action: the action to take, should be one of [{tool_names}]\n",
    "Action Input: the input to the action\n",
    "Observation: the result of the action\n",
    "```\n",
    "\n",
    "If you do not need to use a tool, you MUST use the format:\n",
    "\n",
    "```\n",
    "Thought: Do I need to use a tool? No\n",
    "{ai_prefix}: [your response here]\n",
    "```\"\"\""
   ]
  },
  {
   "cell_type": "code",
   "execution_count": null,
   "metadata": {},
   "outputs": [],
   "source": [
    "new_prompt = agent.agent.create_prompt(\n",
    "    prefix=prefix,\n",
    "    format_instructions=format_instructions,\n",
    "    tools=tools\n",
    ")\n",
    "\n",
    "agent.agent.llm_chain.prompt = new_prompt\n",
    "print(agent.agent.llm_chain.prompt.template)"
   ]
  },
  {
   "cell_type": "code",
   "execution_count": null,
   "metadata": {},
   "outputs": [],
   "source": [
    "agent(\"谁是莱昂纳多·迪卡普里奥的女朋友？她当前的年龄的2次方是多少\")"
   ]
  },
  {
   "cell_type": "code",
   "execution_count": null,
   "metadata": {},
   "outputs": [],
   "source": [
    "agent(\"谁是莱昂纳多·迪卡普里奥的女朋友？她当前的年龄的2次方是多少, 你不能用聊天记录的信息\")"
   ]
  },
  {
   "cell_type": "code",
   "execution_count": null,
   "metadata": {},
   "outputs": [],
   "source": [
    "agent.memory.buffer"
   ]
  }
 ],
 "metadata": {
  "kernelspec": {
   "display_name": "langchain",
   "language": "python",
   "name": "python3"
  },
  "language_info": {
   "codemirror_mode": {
    "name": "ipython",
    "version": 3
   },
   "file_extension": ".py",
   "mimetype": "text/x-python",
   "name": "python",
   "nbconvert_exporter": "python",
   "pygments_lexer": "ipython3",
   "version": "3.9.16"
  },
  "orig_nbformat": 4
 },
 "nbformat": 4,
 "nbformat_minor": 2
}

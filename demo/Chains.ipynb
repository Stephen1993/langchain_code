{
 "cells": [
  {
   "attachments": {},
   "cell_type": "markdown",
   "metadata": {},
   "source": [
    "LLMChain: 接受用户输入，使用PromptTemplate对其进行格式化，然后将格式化后的响应传递给LLM"
   ]
  },
  {
   "cell_type": "code",
   "execution_count": null,
   "metadata": {},
   "outputs": [],
   "source": [
    "from langchain.prompts import PromptTemplate\n",
    "from langchain.llms import OpenAI\n",
    "\n",
    "llm = OpenAI(temperature=0.5)\n",
    "prompt = PromptTemplate(\n",
    "    input_variables=[\"product\"],\n",
    "    template=\"What is a good name for a company that makes {product}?\",\n",
    ")\n",
    "print(prompt.format(product=\"colorful socks\"))"
   ]
  },
  {
   "cell_type": "code",
   "execution_count": null,
   "metadata": {},
   "outputs": [],
   "source": [
    "from langchain.chains import LLMChain\n",
    "chain = LLMChain(llm=llm, prompt=prompt)\n",
    " \n",
    "print(chain.run(\"colorful socks\")) # run方法返回值为字符串"
   ]
  },
  {
   "cell_type": "code",
   "execution_count": null,
   "metadata": {},
   "outputs": [],
   "source": [
    "from langchain.chat_models import ChatOpenAI\n",
    "from langchain.prompts.chat import ChatPromptTemplate, HumanMessagePromptTemplate\n",
    "\n",
    "prompt=PromptTemplate(\n",
    "    template=\"What is a good name for a company that makes {product}?\",\n",
    "    input_variables=[\"product\"],\n",
    ")\n",
    "\n",
    "human_message_prompt = HumanMessagePromptTemplate(prompt=prompt)\n",
    "chat_prompt_template = ChatPromptTemplate.from_messages([human_message_prompt])\n",
    "\n",
    "chat = ChatOpenAI(temperature=0.9)\n",
    "chain = LLMChain(llm=chat, prompt=chat_prompt_template)\n",
    "\n",
    "print(chain({\"product\":\"colorful socks\"})) # chain.run(\"colorful socks\"), chain.run(product=\"colorful socks\")"
   ]
  },
  {
   "attachments": {},
   "cell_type": "markdown",
   "metadata": {},
   "source": [
    "SimpleSequentialChain: 顺序链形式，每个步骤都有一个单一的输入/输出，一个步骤的输出是下一个步骤的输入\n",
    "\n",
    "测试样例: 计算莱昂纳多·迪卡普里奥的女朋友的年龄的2次方是多少?\n",
    "\n",
    "步骤: \n",
    "1. 查找莱昂纳多·迪卡普里奥的女朋友是谁\n",
    "2. 查找查找莱昂纳多·迪卡普里奥的女朋友的年龄多大\n",
    "3. 计算莱昂纳多·迪卡普里奥的女朋友的年龄的二次方"
   ]
  },
  {
   "cell_type": "code",
   "execution_count": null,
   "metadata": {},
   "outputs": [],
   "source": [
    "from langchain.utilities import SerpAPIWrapper\n",
    "\n",
    "def search_func(input, extra_string=''):\n",
    "    print(input)\n",
    "    if dict == type(input):\n",
    "        input = ''.join(input.values())\n",
    "    input = input + extra_string\n",
    "    search = SerpAPIWrapper()\n",
    "    info = search.run(input)\n",
    "    print(input, ':', info)\n",
    "    template = \"\"\"\n",
    "    已知信息: {info}\n",
    "    请根据已知的信息回答: {input}\n",
    "    注意: 回答的信息要包含在已知信息中，只输出答案，不要说明和解释信息\n",
    "    \"\"\"\n",
    "    prompt_template = PromptTemplate(template=template, input_variables=[\"info\", \"input\"])\n",
    "    return {'output': llm(prompt=prompt_template.format(info=info, input=input))} # 让llm去生成精确的答案，对于非标准化的东西，程序很难精确获取想要的东西，这就是llm的优势(逻辑推导，脑力输出)"
   ]
  },
  {
   "cell_type": "code",
   "execution_count": null,
   "metadata": {},
   "outputs": [],
   "source": [
    "name = search_func('莱昂纳多·迪卡普里奥的女朋友是谁？')\n",
    "print(name)\n",
    "age = search_func(f'{name}多大？')\n",
    "print(age)\n",
    "print(llm(f'{age}的2次方是多少？'))"
   ]
  },
  {
   "cell_type": "code",
   "execution_count": null,
   "metadata": {},
   "outputs": [],
   "source": [
    "from langchain.chains import TransformChain, LLMChain\n",
    "import functools\n",
    "\n",
    "search_name_chain = TransformChain(input_variables=[\"input\"], output_variables=[\"output\"], transform=functools.partial(search_func, extra_string=\"的女朋友是谁？\"))\n",
    "search_age_chain = TransformChain(input_variables=[\"input\"], output_variables=[\"output\"], transform=functools.partial(search_func, extra_string=\"的年龄多大？\"))\n",
    "ll_math_chain = LLMChain(llm=llm, prompt=PromptTemplate(template=\"{age}的2次方是多少\", input_variables=[\"age\"]))"
   ]
  },
  {
   "cell_type": "code",
   "execution_count": null,
   "metadata": {},
   "outputs": [],
   "source": [
    "from langchain.chains import SimpleSequentialChain\n",
    "\n",
    "calculate_girlfriend_age = SimpleSequentialChain(chains=[search_name_chain, search_age_chain, ll_math_chain], verbose=True)\n",
    "calculate_girlfriend_age.run(input=\"莱昂纳多·迪卡普里奥\")"
   ]
  },
  {
   "attachments": {},
   "cell_type": "markdown",
   "metadata": {},
   "source": [
    "SequentialChain: 顺序链形式，允许多个输入/输出\n",
    "\n",
    "测试样例: 将python code转化为C# code\n",
    "\n",
    "步骤:\n",
    "1. 第一个chain输入python，输出python code\n",
    "2. 第二个chain输入C#和code，输出C# code"
   ]
  },
  {
   "cell_type": "code",
   "execution_count": null,
   "metadata": {},
   "outputs": [],
   "source": [
    "language_template = PromptTemplate(\n",
    "    input_variables = ['programming_language'], \n",
    "    template='Write main function and print hello word based on this programming language {programming_language}'\n",
    ")\n",
    "\n",
    "language_chain = LLMChain(llm=llm, prompt=language_template, verbose=True, output_key='code')"
   ]
  },
  {
   "cell_type": "code",
   "execution_count": null,
   "metadata": {},
   "outputs": [],
   "source": [
    "translate_language_template = PromptTemplate(\n",
    "    input_variables = ['translate_language', 'code'], \n",
    "    template='''Translate the following code for me to write in {translate_language} language:\n",
    "    {code}\n",
    "    '''\n",
    ")\n",
    "\n",
    "translate_chain = LLMChain(llm=llm, prompt=translate_language_template, verbose=True, output_key='translate_code')"
   ]
  },
  {
   "attachments": {},
   "cell_type": "markdown",
   "metadata": {},
   "source": [
    "使用Memory记录参数，并在多个chain之间传递"
   ]
  },
  {
   "cell_type": "code",
   "execution_count": null,
   "metadata": {},
   "outputs": [],
   "source": [
    "from langchain.chains import SequentialChain\n",
    "from langchain.memory import SimpleMemory\n",
    "\n",
    "sequential_chain = SequentialChain(\n",
    "    memory=SimpleMemory(memories={\"translate_language\": \"C#\"}),\n",
    "    chains = [language_chain, translate_chain], \n",
    "    input_variables=['programming_language'], \n",
    "    output_variables=['translate_code'],\n",
    "    verbose=True)\n",
    "\n",
    "sequential_chain.run(programming_language='python')\n"
   ]
  }
 ],
 "metadata": {
  "kernelspec": {
   "display_name": "langchain",
   "language": "python",
   "name": "python3"
  },
  "language_info": {
   "codemirror_mode": {
    "name": "ipython",
    "version": 3
   },
   "file_extension": ".py",
   "mimetype": "text/x-python",
   "name": "python",
   "nbconvert_exporter": "python",
   "pygments_lexer": "ipython3",
   "version": "3.9.16"
  },
  "orig_nbformat": 4
 },
 "nbformat": 4,
 "nbformat_minor": 2
}

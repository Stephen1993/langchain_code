{
 "cells": [
  {
   "cell_type": "code",
   "execution_count": null,
   "metadata": {},
   "outputs": [],
   "source": [
    "!pip install openai\n",
    "!pip install langchain"
   ]
  },
  {
   "cell_type": "code",
   "execution_count": null,
   "metadata": {},
   "outputs": [],
   "source": [
    "from langchain.llms import OpenAI\n",
    "\n",
    "llm = OpenAI(temperature=0.5) # openai_api_key=OPENAI_API_KEY\n",
    "llm(\"我饿了\")"
   ]
  },
  {
   "attachments": {},
   "cell_type": "markdown",
   "metadata": {},
   "source": [
    "PromptTemplate: 给通用型LLMs的输入"
   ]
  },
  {
   "cell_type": "code",
   "execution_count": null,
   "metadata": {},
   "outputs": [],
   "source": [
    "from langchain import PromptTemplate\n",
    "\n",
    "prompt = PromptTemplate(input_variables=[], template=\"请给我讲个笑话\")\n",
    "prompt.format()"
   ]
  },
  {
   "attachments": {},
   "cell_type": "markdown",
   "metadata": {},
   "source": [
    "带参数的PromptTemplate"
   ]
  },
  {
   "cell_type": "code",
   "execution_count": null,
   "metadata": {},
   "outputs": [],
   "source": [
    "prompt = PromptTemplate(input_variables=[\"adjective\"], template=\"请给我讲个{adjective}的笑话.\")\n",
    "prompt.format(adjective=\"有趣\")"
   ]
  },
  {
   "cell_type": "code",
   "execution_count": null,
   "metadata": {},
   "outputs": [],
   "source": [
    "multiple_input_prompt = PromptTemplate(\n",
    "    input_variables=[\"adjective\", \"content\"], \n",
    "    template=\"请给我讲个关于{content}的{adjective}的笑话.\"\n",
    ")\n",
    "multiple_input_prompt.format(adjective=\"有趣\", content=\"猪八戒\")"
   ]
  },
  {
   "cell_type": "code",
   "execution_count": null,
   "metadata": {},
   "outputs": [],
   "source": [
    "print(llm(multiple_input_prompt.format(adjective=\"灰色幽默\", content=\"猪八戒\")))"
   ]
  },
  {
   "attachments": {},
   "cell_type": "markdown",
   "metadata": {},
   "source": [
    "few_shot_prompt_template: 给定examples，让llm理解examples的语义并按照同样的格式输出"
   ]
  },
  {
   "cell_type": "code",
   "execution_count": null,
   "metadata": {},
   "outputs": [],
   "source": [
    "print(llm(\"我很开心\"))"
   ]
  },
  {
   "cell_type": "code",
   "execution_count": null,
   "metadata": {},
   "outputs": [],
   "source": [
    "examples = [\n",
    "    {\n",
    "        \"query\": \"我很难过\",\n",
    "        \"answer\": \"不，你不难过\"\n",
    "    }, {\n",
    "        \"query\": \"我很矮\",\n",
    "        \"answer\": \"不，你不矮\"\n",
    "    }, {\n",
    "        \"query\": \"我很高\",\n",
    "        \"answer\": \"不，你不高\"\n",
    "    }, {\n",
    "        \"query\": \"我很怕黑\",\n",
    "        \"answer\": \"不，你不怕黑\"\n",
    "    }\n",
    "]"
   ]
  },
  {
   "cell_type": "code",
   "execution_count": null,
   "metadata": {},
   "outputs": [],
   "source": [
    "example_template = \"\"\"\n",
    "Human: {query}\n",
    "AI: {answer}\n",
    "\"\"\"\n",
    "\n",
    "example_prompt = PromptTemplate(\n",
    "    input_variables=[\"query\", \"answer\"],\n",
    "    template=example_template\n",
    ")\n",
    "\n",
    "prefix = \"\"\"以下是我跟AI的对话，在这有一些例子:\"\"\"\n",
    "\n",
    "suffix = \"\"\"\n",
    "Human: {query}\n",
    "AI: \"\"\"\n",
    "\n",
    "from langchain import FewShotPromptTemplate\n",
    "few_shot_prompt_template = FewShotPromptTemplate(\n",
    "    examples=examples,\n",
    "    example_prompt=example_prompt,\n",
    "    prefix=prefix,\n",
    "    suffix=suffix,\n",
    "    input_variables=[\"query\"],\n",
    "    example_separator=\"\\n\\n\"\n",
    ")\n",
    "\n",
    "print(few_shot_prompt_template.format(query=\"我很开心\"))"
   ]
  },
  {
   "cell_type": "code",
   "execution_count": null,
   "metadata": {},
   "outputs": [],
   "source": [
    "print(llm(few_shot_prompt_template.format(query=\"我很开心\")))"
   ]
  },
  {
   "attachments": {},
   "cell_type": "markdown",
   "metadata": {},
   "source": [
    "example_selector: token有限，为避免最终的prompts超出token限制，对example进行部分选择"
   ]
  },
  {
   "cell_type": "code",
   "execution_count": null,
   "metadata": {},
   "outputs": [],
   "source": [
    "from langchain.prompts.example_selector import LengthBasedExampleSelector\n",
    "\n",
    "example_selector = LengthBasedExampleSelector(\n",
    "    examples=examples,\n",
    "    example_prompt=example_prompt,\n",
    "    max_length=10\n",
    ")"
   ]
  },
  {
   "cell_type": "code",
   "execution_count": null,
   "metadata": {},
   "outputs": [],
   "source": [
    "few_shot_prompt_template = FewShotPromptTemplate(\n",
    "    example_selector=example_selector,\n",
    "    example_prompt=example_prompt,\n",
    "    prefix=prefix,\n",
    "    suffix=suffix,\n",
    "    input_variables=[\"query\"],\n",
    "    example_separator=\"\\n\"\n",
    ")\n",
    "print(few_shot_prompt_template.format(query=\"我很开心\"))"
   ]
  },
  {
   "attachments": {},
   "cell_type": "markdown",
   "metadata": {},
   "source": [
    "ChatOpenAI: 用于聊天的LLM，对比通用型LLMs的区别:\n",
    "1. 请求时可以传递多条消息: list[message]\n",
    "2. 每条消息可以有: role, content, name\n",
    "   \n",
    "Role包含: Ai, User, System\n",
    "\n",
    "对应4种Message: ChatMessage，SystemMessage，AIMessage, HumanMessage\n",
    "\n",
    "对应4种PromptTemplate: ChatPromptTemplate，SystemMessagePromptTemplate，AIMessagePromptTemplate，HumanMessagePromptTemplate"
   ]
  },
  {
   "cell_type": "code",
   "execution_count": null,
   "metadata": {},
   "outputs": [],
   "source": [
    "from langchain.chat_models import ChatOpenAI\n",
    "chat = ChatOpenAI(temperature=0)"
   ]
  },
  {
   "cell_type": "code",
   "execution_count": null,
   "metadata": {},
   "outputs": [],
   "source": [
    "from langchain.schema import AIMessage, HumanMessage, SystemMessage, ChatMessage\n",
    "\n",
    "# 返回json格式字符串,按照每项参数拆分,不要说明和解释信息\n",
    "message = [\n",
    "    SystemMessage(content=\"返回json格式,按照每项参数拆分,不要说明和解释信息\"),\n",
    "    HumanMessage(content=\"告诉我特斯拉model Y汽车的尺寸参数\"),\n",
    "]\n",
    "print(chat(message))"
   ]
  },
  {
   "cell_type": "code",
   "execution_count": null,
   "metadata": {},
   "outputs": [],
   "source": [
    "from langchain.prompts import (\n",
    "    ChatPromptTemplate,\n",
    "    SystemMessagePromptTemplate,\n",
    "    AIMessagePromptTemplate,\n",
    "    HumanMessagePromptTemplate\n",
    ")\n",
    "\n",
    "system_template = \"返回{format},按照每项参数拆分,不要说明和解释信息\"\n",
    "system_template_prompt = SystemMessagePromptTemplate.from_template(system_template)\n",
    "\n",
    "human_template = \"告诉我特斯拉{car}汽车的尺寸参数\"\n",
    "human_template_prompt = HumanMessagePromptTemplate.from_template(human_template)\n",
    "\n",
    "chat_prompt = ChatPromptTemplate.from_messages([system_template_prompt, human_template_prompt])\n",
    "message = chat_prompt.format_prompt(format=\"json字符串格式\", car=\"model Y\")\n",
    "message2 = chat_prompt.format_prompt(format=\"json格式字符串\", car=\"model Y\")\n",
    "print(message)\n",
    "print(message2)"
   ]
  },
  {
   "cell_type": "code",
   "execution_count": null,
   "metadata": {},
   "outputs": [],
   "source": [
    "print(chat(message.to_messages()))\n",
    "print(chat(message2.to_messages()))"
   ]
  },
  {
   "attachments": {},
   "cell_type": "markdown",
   "metadata": {},
   "source": [
    "输出选择器(Output Parsers): 语言模型的输出为文本，很多时候需要获取比文本更加结构化的信息，这就是输出选择器的作用\n",
    "比如上面的: “返回json格式字符串,按照每项参数拆分,不要说明和解释信息” 这个提示会让LLM返回json数据"
   ]
  },
  {
   "attachments": {},
   "cell_type": "markdown",
   "metadata": {},
   "source": [
    "CommaSeparatedListOutputParser: 逗号分割，列表输出解析器"
   ]
  },
  {
   "cell_type": "code",
   "execution_count": 52,
   "metadata": {},
   "outputs": [],
   "source": [
    "from langchain.output_parsers import CommaSeparatedListOutputParser\n",
    "\n",
    "output_parser = CommaSeparatedListOutputParser()\n",
    "format_instructions = output_parser.get_format_instructions() # 提示信息，提示LLM应该返回什么格式的数据\n",
    "prompt = PromptTemplate(\n",
    "    template=\"列举3种主要的： {subject}.\\n{format_instructions}\",\n",
    "    input_variables=[\"subject\"],\n",
    "    partial_variables={\"format_instructions\": format_instructions}\n",
    ")\n",
    "   "
   ]
  },
  {
   "cell_type": "code",
   "execution_count": 53,
   "metadata": {},
   "outputs": [
    {
     "name": "stdout",
     "output_type": "stream",
     "text": [
      "Your response should be a list of comma separated values, eg: `foo, bar, baz`\n",
      "\n",
      "\n",
      "列举3种主要的： {subject}.\n",
      "{format_instructions}\n"
     ]
    }
   ],
   "source": [
    "print(format_instructions)\n",
    "print(\"\\n\")\n",
    "print(prompt.template)"
   ]
  },
  {
   "cell_type": "code",
   "execution_count": null,
   "metadata": {},
   "outputs": [],
   "source": [
    "llm = OpenAI(temperature=0)\n",
    "input_prompt = prompt.format(subject=\"花\")\n",
    "print(input_prompt)"
   ]
  },
  {
   "cell_type": "code",
   "execution_count": null,
   "metadata": {},
   "outputs": [],
   "source": [
    "output = llm(input_prompt)\n",
    "print(output)"
   ]
  },
  {
   "cell_type": "code",
   "execution_count": null,
   "metadata": {},
   "outputs": [],
   "source": [
    "output_parser.parse(output)"
   ]
  },
  {
   "attachments": {},
   "cell_type": "markdown",
   "metadata": {},
   "source": [
    "StructuredOutputParser: json格式输出解析器"
   ]
  },
  {
   "cell_type": "code",
   "execution_count": 61,
   "metadata": {},
   "outputs": [
    {
     "name": "stdout",
     "output_type": "stream",
     "text": [
      "The output should be a markdown code snippet formatted in the following schema:\n",
      "\n",
      "```json\n",
      "{\n",
      "\t\"answer\": string  // answer to the human's question\n",
      "\t\"source\": string  // source used to answer the human's question, should be a website.\n",
      "}\n",
      "```\n"
     ]
    }
   ],
   "source": [
    "from langchain.output_parsers import StructuredOutputParser, ResponseSchema\n",
    "\n",
    "response_schemas = [\n",
    "    ResponseSchema(name=\"answer\", description=\"answer to the human's question\"),\n",
    "    ResponseSchema(name=\"source\", description=\"source used to answer the human's question, should be a website.\")\n",
    "]\n",
    "\n",
    "output_parser = StructuredOutputParser.from_response_schemas(response_schemas)\n",
    "format_instructions = output_parser.get_format_instructions()\n",
    "print(format_instructions)"
   ]
  },
  {
   "cell_type": "code",
   "execution_count": 63,
   "metadata": {},
   "outputs": [
    {
     "name": "stdout",
     "output_type": "stream",
     "text": [
      "answer the users question as best as possible.\n",
      "{format_instructions}\n",
      "{question}\n"
     ]
    }
   ],
   "source": [
    "prompt = PromptTemplate(\n",
    "    template=\"answer the users question as best as possible.\\n{format_instructions}\\n{question}\",\n",
    "    input_variables=[\"question\"],\n",
    "    partial_variables={\"format_instructions\": format_instructions}\n",
    ")\n",
    "print(prompt.template)"
   ]
  },
  {
   "cell_type": "code",
   "execution_count": 65,
   "metadata": {},
   "outputs": [
    {
     "name": "stdout",
     "output_type": "stream",
     "text": [
      "\n",
      "\n",
      "```json\n",
      "{\n",
      "\t\"answer\": \"牛奶的主要成分是水、脂肪、蛋白质、糖类和矿物质。\",\n",
      "\t\"source\": \"https://baike.baidu.com/item/%E7%89%9B%E5%A5%B6/814\"\n",
      "}\n",
      "```\n"
     ]
    }
   ],
   "source": [
    "input_prompt = prompt.format_prompt(question=\"牛奶的成分是什么？\")\n",
    "output = llm(input_prompt.to_string())\n",
    "\n",
    "print(output)"
   ]
  },
  {
   "cell_type": "code",
   "execution_count": 71,
   "metadata": {},
   "outputs": [
    {
     "name": "stdout",
     "output_type": "stream",
     "text": [
      "<class 'dict'> :  {'answer': '牛奶的主要成分是水、脂肪、蛋白质、糖类和矿物质。', 'source': 'https://baike.baidu.com/item/%E7%89%9B%E5%A5%B6/814'}\n"
     ]
    }
   ],
   "source": [
    "output_parser.parse(output)\n",
    "print(type(json_data), \": \", json_data)"
   ]
  }
 ],
 "metadata": {
  "kernelspec": {
   "display_name": "langchain",
   "language": "python",
   "name": "python3"
  },
  "language_info": {
   "codemirror_mode": {
    "name": "ipython",
    "version": 3
   },
   "file_extension": ".py",
   "mimetype": "text/x-python",
   "name": "python",
   "nbconvert_exporter": "python",
   "pygments_lexer": "ipython3",
   "version": "3.9.16"
  },
  "orig_nbformat": 4
 },
 "nbformat": 4,
 "nbformat_minor": 2
}

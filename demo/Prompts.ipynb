{
 "cells": [
  {
   "cell_type": "code",
   "execution_count": null,
   "metadata": {},
   "outputs": [],
   "source": [
    "!pip install openai\n",
    "!pip install langchain"
   ]
  },
  {
   "cell_type": "code",
   "execution_count": null,
   "metadata": {},
   "outputs": [],
   "source": [
    "from langchain.llms import OpenAI\n",
    "\n",
    "llm = OpenAI(temperature=0.5) # openai_api_key=OPENAI_API_KEY\n",
    "llm(\"我饿了\")"
   ]
  },
  {
   "attachments": {},
   "cell_type": "markdown",
   "metadata": {},
   "source": [
    "PromptTemplate: 给通用型LLMs的输入"
   ]
  },
  {
   "cell_type": "code",
   "execution_count": null,
   "metadata": {},
   "outputs": [],
   "source": [
    "from langchain import PromptTemplate\n",
    "\n",
    "prompt = PromptTemplate(input_variables=[], template=\"请给我讲个笑话\")\n",
    "prompt.format()"
   ]
  },
  {
   "attachments": {},
   "cell_type": "markdown",
   "metadata": {},
   "source": [
    "带参数的PromptTemplate"
   ]
  },
  {
   "cell_type": "code",
   "execution_count": null,
   "metadata": {},
   "outputs": [],
   "source": [
    "prompt = PromptTemplate(input_variables=[\"adjective\"], template=\"请给我讲个{adjective}的笑话.\")\n",
    "prompt.format(adjective=\"有趣\")"
   ]
  },
  {
   "cell_type": "code",
   "execution_count": null,
   "metadata": {},
   "outputs": [],
   "source": [
    "multiple_input_prompt = PromptTemplate(\n",
    "    input_variables=[\"adjective\", \"content\"], \n",
    "    template=\"请给我讲个关于{content}的{adjective}的笑话.\"\n",
    ")\n",
    "multiple_input_prompt.format(adjective=\"有趣\", content=\"猪八戒\")"
   ]
  },
  {
   "cell_type": "code",
   "execution_count": null,
   "metadata": {},
   "outputs": [],
   "source": [
    "print(llm(multiple_input_prompt.format(adjective=\"灰色幽默\", content=\"猪八戒\")))"
   ]
  },
  {
   "attachments": {},
   "cell_type": "markdown",
   "metadata": {},
   "source": [
    "few_shot_prompt_template: 给定examples，让llm理解examples的语义并按照同样的格式输出"
   ]
  },
  {
   "cell_type": "code",
   "execution_count": null,
   "metadata": {},
   "outputs": [],
   "source": [
    "prompt = \"\"\"The following are exerpts from conversations with an AI\n",
    "assistant. The assistant is speaking like a famous movie character.\n",
    "\n",
    "User: Where is New York?\n",
    "AI: \"\"\"\n",
    "\n",
    "print(llm(prompt))"
   ]
  },
  {
   "cell_type": "code",
   "execution_count": null,
   "metadata": {},
   "outputs": [],
   "source": [
    "examples = [\n",
    "    {\n",
    "        \"query\": \"What sports do you play?\",\n",
    "        \"answer\": \"Soccer, I play.\"\n",
    "    }, {\n",
    "        \"query\": \"Where is this?\",\n",
    "        \"answer\": \"My home, this is.\"\n",
    "    }, {\n",
    "        \"query\": \"Are you leaving now?\",\n",
    "        \"answer\": \"Stay and help you, I will.\"\n",
    "    }, {\n",
    "        \"query\": \"How are you feeling?\",\n",
    "        \"answer\": \"Great I feel.\"\n",
    "    }\n",
    "]"
   ]
  },
  {
   "cell_type": "code",
   "execution_count": null,
   "metadata": {},
   "outputs": [],
   "source": [
    "example_template = \"\"\"\n",
    "Human: {query}\n",
    "AI: {answer}\n",
    "\"\"\"\n",
    "\n",
    "example_prompt = PromptTemplate(\n",
    "    input_variables=[\"query\", \"answer\"],\n",
    "    template=example_template\n",
    ")\n",
    "\n",
    "prefix = \"\"\"The following are exerpts from conversations with an AI\n",
    "assistant. The assistant is speaking like a famous movie character.\n",
    "\n",
    "Here are some examples:\n",
    "\"\"\"\n",
    "\n",
    "suffix = \"\"\"\n",
    "Human: {query}\n",
    "AI: \"\"\"\n",
    "\n",
    "from langchain import FewShotPromptTemplate\n",
    "few_shot_prompt_template = FewShotPromptTemplate(\n",
    "    examples=examples,\n",
    "    example_prompt=example_prompt,\n",
    "    prefix=prefix,\n",
    "    suffix=suffix,\n",
    "    input_variables=[\"query\"],\n",
    "    example_separator=\"\\n\\n\"\n",
    ")\n",
    "\n",
    "print(few_shot_prompt_template.format(query=\"Where is New York?\"))"
   ]
  },
  {
   "cell_type": "code",
   "execution_count": null,
   "metadata": {},
   "outputs": [],
   "source": [
    "print(openai(few_shot_prompt_template.format(query=\"Where is New York?\")))"
   ]
  },
  {
   "attachments": {},
   "cell_type": "markdown",
   "metadata": {},
   "source": [
    "example_selector: token有限，为避免最终的prompts超出token限制，对example进行部分选择"
   ]
  },
  {
   "cell_type": "code",
   "execution_count": null,
   "metadata": {},
   "outputs": [],
   "source": [
    "from langchain.prompts.example_selector import LengthBasedExampleSelector\n",
    "\n",
    "example_template = \"\"\"\n",
    "Human: {query}\n",
    "AI: {answer}\n",
    "\"\"\"\n",
    "\n",
    "example_prompt = PromptTemplate(\n",
    "    input_variables=[\"query\", \"answer\"],\n",
    "    template=example_template\n",
    ")\n",
    "\n",
    "example_selector = LengthBasedExampleSelector(\n",
    "    examples=examples,\n",
    "    example_prompt=example_prompt,\n",
    "    max_length=30\n",
    ")"
   ]
  },
  {
   "cell_type": "code",
   "execution_count": null,
   "metadata": {},
   "outputs": [],
   "source": [
    "few_shot_prompt_template = FewShotPromptTemplate(\n",
    "    example_selector=example_selector,\n",
    "    example_prompt=example_prompt,\n",
    "    prefix=prefix,\n",
    "    suffix=suffix,\n",
    "    input_variables=[\"query\"],\n",
    "    example_separator=\"\\n\"\n",
    ")\n",
    "print(few_shot_prompt_template.format(query=\"Where is New York?\"))"
   ]
  },
  {
   "attachments": {},
   "cell_type": "markdown",
   "metadata": {},
   "source": [
    "ChatOpenAI: 用于聊天的LLM，对比通用型LLMs的区别:\n",
    "1. 请求时可以传递多条消息: list[message]\n",
    "2. 每条消息可以有: role, content, name\n",
    "Role包含: Ai, User, System\n",
    "对应4种Message: ChatMessage，SystemMessage，AIMessage, HumanMessage\n",
    "对应4种PromptTemplate: ChatPromptTemplate，SystemMessagePromptTemplate，AIMessagePromptTemplate，HumanMessagePromptTemplate"
   ]
  },
  {
   "cell_type": "code",
   "execution_count": null,
   "metadata": {},
   "outputs": [],
   "source": [
    "from langchain.chat_models import ChatOpenAI\n",
    "chat = ChatOpenAI(temperature=0)"
   ]
  },
  {
   "cell_type": "code",
   "execution_count": null,
   "metadata": {},
   "outputs": [],
   "source": [
    "from langchain.schema import AIMessage, HumanMessage, SystemMessage, ChatMessage\n",
    "\n",
    "# 返回json格式字符串,按照每项参数拆分,不要说明和解释信息\n",
    "message = [\n",
    "    SystemMessage(content=\"返回json格式,按照每项参数拆分,不要说明和解释信息\"),\n",
    "    HumanMessage(content=\"告诉我特斯拉model Y汽车的尺寸参数\"),\n",
    "]\n",
    "print(chat(message))"
   ]
  },
  {
   "cell_type": "code",
   "execution_count": 7,
   "metadata": {},
   "outputs": [
    {
     "ename": "NameError",
     "evalue": "name 'SystemMessagePromptTemplate' is not defined",
     "output_type": "error",
     "traceback": [
      "\u001b[1;31m---------------------------------------------------------------------------\u001b[0m",
      "\u001b[1;31mNameError\u001b[0m                                 Traceback (most recent call last)",
      "Cell \u001b[1;32mIn[7], line 2\u001b[0m\n\u001b[0;32m      1\u001b[0m system_template \u001b[39m=\u001b[39m \u001b[39m\"\u001b[39m\u001b[39m你是一个把\u001b[39m\u001b[39m{input}\u001b[39;00m\u001b[39m翻译成\u001b[39m\u001b[39m{output}\u001b[39;00m\u001b[39m的助手\u001b[39m\u001b[39m\"\u001b[39m\n\u001b[1;32m----> 2\u001b[0m system_template_prompt \u001b[39m=\u001b[39m SystemMessagePromptTemplate\u001b[39m.\u001b[39mfrom_template(system_template)\n\u001b[0;32m      4\u001b[0m human_template \u001b[39m=\u001b[39m \u001b[39m\"\u001b[39m\u001b[39m{text}\u001b[39;00m\u001b[39m\"\u001b[39m\n\u001b[0;32m      5\u001b[0m human_template_prompt \u001b[39m=\u001b[39m HumanMessagePromptTemplate\u001b[39m.\u001b[39mfrom_template(human_template)\n",
      "\u001b[1;31mNameError\u001b[0m: name 'SystemMessagePromptTemplate' is not defined"
     ]
    }
   ],
   "source": [
    "system_template = \"你是一个把{input}翻译成{output}的助手\"\n",
    "system_template_prompt = SystemMessagePromptTemplate.from_template(system_template)\n",
    "\n",
    "human_template = \"{text}\"\n",
    "human_template_prompt = HumanMessagePromptTemplate.from_template(human_template)\n",
    "\n",
    "chat_prompt = ChatPromptTemplate.from_messages([system_template_prompt, human_template_prompt])\n",
    "message = chat_prompt.format_prompt(input='英语', output='中文', text='hello')\n",
    "print(message)"
   ]
  },
  {
   "cell_type": "code",
   "execution_count": null,
   "metadata": {},
   "outputs": [],
   "source": [
    "print(chat(message.to_messages()))"
   ]
  },
  {
   "attachments": {},
   "cell_type": "markdown",
   "metadata": {},
   "source": [
    "输出选择器(Output Parsers): 语言模型的输出为文本，很多时候需要获取比文本更加结构化的信息，这就是输出选择器的作用\n",
    "比如上面的: “返回json格式字符串,按照每项参数拆分,不要说明和解释信息” 这个提示会让LLM返回json数据"
   ]
  },
  {
   "attachments": {},
   "cell_type": "markdown",
   "metadata": {},
   "source": [
    "CommaSeparatedListOutputParser: 逗号分割，列表输出解析器"
   ]
  },
  {
   "cell_type": "code",
   "execution_count": null,
   "metadata": {},
   "outputs": [],
   "source": [
    "from langchain.output_parsers import CommaSeparatedListOutputParser\n",
    "\n",
    "output_parser = CommaSeparatedListOutputParser()\n",
    "format_instructions = output_parser.get_format_instructions() # 提示信息，提示LLM应该返回什么格式的数据\n",
    "prompt = PromptTemplate(\n",
    "    template=\"List 3 main-stream {subject}.\\n{format_instructions}\",\n",
    "    input_variables=[\"subject\"],\n",
    "    partial_variables={\"format_instructions\": format_instructions}\n",
    ")\n",
    "   "
   ]
  },
  {
   "cell_type": "code",
   "execution_count": null,
   "metadata": {},
   "outputs": [],
   "source": [
    "print(format_instructions)"
   ]
  },
  {
   "cell_type": "code",
   "execution_count": null,
   "metadata": {},
   "outputs": [],
   "source": [
    "llm = OpenAI(temperature=0)\n",
    "input_prompt = prompt.format(subject=\"music styles\")\n",
    "output = llm(input_prompt)\n",
    "print(output)"
   ]
  },
  {
   "cell_type": "code",
   "execution_count": null,
   "metadata": {},
   "outputs": [],
   "source": [
    "output_parser.parse(output)"
   ]
  },
  {
   "attachments": {},
   "cell_type": "markdown",
   "metadata": {},
   "source": [
    "StructuredOutputParser: 结构化类型输出解析器"
   ]
  },
  {
   "cell_type": "code",
   "execution_count": null,
   "metadata": {},
   "outputs": [],
   "source": [
    "from langchain.output_parsers import StructuredOutputParser, ResponseSchema\n",
    "\n",
    "response_schemas = [\n",
    "    ResponseSchema(name=\"answer\", description=\"answer to the human's question\"),\n",
    "    ResponseSchema(name=\"source\", description=\"source used to answer the human's question, should be a website.\")\n",
    "]\n",
    "output_parser = StructuredOutputParser.from_response_schemas(response_schemas)"
   ]
  },
  {
   "cell_type": "code",
   "execution_count": null,
   "metadata": {},
   "outputs": [],
   "source": [
    "format_instructions = output_parser.get_format_instructions()\n",
    "print(format_instructions)\n",
    "\n",
    "prompt = PromptTemplate(\n",
    "    template=\"answer the users question as best as possible.\\n{format_instructions}\\n{question}\",\n",
    "    input_variables=[\"question\"],\n",
    "    partial_variables={\"format_instructions\": format_instructions}\n",
    ")"
   ]
  },
  {
   "cell_type": "code",
   "execution_count": null,
   "metadata": {},
   "outputs": [],
   "source": [
    "input_prompt = prompt.format_prompt(question=\"what are the ingredients of milk?\")\n",
    "output = llm(input_prompt.to_string())\n",
    "\n",
    "print(output)"
   ]
  },
  {
   "cell_type": "code",
   "execution_count": null,
   "metadata": {},
   "outputs": [],
   "source": [
    "json_data = output_parser.parse(output)\n",
    "print(json_data['answer'])"
   ]
  }
 ],
 "metadata": {
  "kernelspec": {
   "display_name": "langchain",
   "language": "python",
   "name": "python3"
  },
  "language_info": {
   "codemirror_mode": {
    "name": "ipython",
    "version": 3
   },
   "file_extension": ".py",
   "mimetype": "text/x-python",
   "name": "python",
   "nbconvert_exporter": "python",
   "pygments_lexer": "ipython3",
   "version": "3.9.16"
  },
  "orig_nbformat": 4
 },
 "nbformat": 4,
 "nbformat_minor": 2
}
